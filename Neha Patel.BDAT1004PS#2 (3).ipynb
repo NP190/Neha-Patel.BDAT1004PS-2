{
 "cells": [
  {
   "cell_type": "markdown",
   "id": "a8f514d9",
   "metadata": {},
   "source": [
    "PROBLEM SET 2"
   ]
  },
  {
   "cell_type": "markdown",
   "id": "65e678e7",
   "metadata": {},
   "source": [
    "QUESTION 1"
   ]
  },
  {
   "cell_type": "code",
   "execution_count": 14,
   "id": "e47faceb",
   "metadata": {},
   "outputs": [
    {
     "name": "stdout",
     "output_type": "stream",
     "text": [
      "b() = None\n",
      "b() = None\n",
      "b() = None\n",
      "a is 6\n"
     ]
    }
   ],
   "source": [
    "a = 0\n",
    "def b():\n",
    " global a\n",
    " a = c(a) \n",
    "def c(a):\n",
    " return a + 2\n",
    "print('b() = {}'.format(b()))\n",
    "print('b() = {}'.format(b()))\n",
    "print('b() = {}'.format(b()))\n",
    "print('a is {}'.format(a)) \n",
    "\n",
    "#a is 0\n",
    "#b has a local scope\n",
    "#then c has a local scope and a has a global scope \n",
    "# The value of a is 6.\n"
   ]
  },
  {
   "cell_type": "markdown",
   "id": "d200a1c9",
   "metadata": {},
   "source": [
    "QUESTION 2"
   ]
  },
  {
   "cell_type": "code",
   "execution_count": 18,
   "id": "97c51f98",
   "metadata": {},
   "outputs": [
    {
     "name": "stdout",
     "output_type": "stream",
     "text": [
      "123\n",
      "File ilelength.txt Not Found\n"
     ]
    }
   ],
   "source": [
    "infile = open('Filelength.txt')\n",
    "file1 = infile.read()\n",
    "print(len(file1))\n",
    "\n",
    "try:\n",
    "        infile = open('ilelength.txt')\n",
    "        file1 = infile.read()\n",
    "        print(len(file1))\n",
    "except:\n",
    "        print('File ilelength.txt Not Found')"
   ]
  },
  {
   "cell_type": "markdown",
   "id": "6066298a",
   "metadata": {},
   "source": [
    "QUESTION 3"
   ]
  },
  {
   "cell_type": "code",
   "execution_count": 93,
   "id": "37d60ed8",
   "metadata": {},
   "outputs": [
    {
     "name": "stdout",
     "output_type": "stream",
     "text": [
      "I am a Kanagroo located at coordinates (0,0)\n",
      "['doll', 'firetruck', 'kitten']\n",
      "I am a Kanagroo located at coordinates (3,0)\n"
     ]
    }
   ],
   "source": [
    "class Marsupial:\n",
    "    def __init__(self):\n",
    "          self.pouch=[]\n",
    "\n",
    "    def put_in_pouch(self, items):\n",
    "          self.pouch.append(items)\n",
    "   \n",
    "    def pouch_contents(self):\n",
    "\n",
    "        return self.pouch\n",
    "\n",
    "class Kangaroo(Marsupial):\n",
    "    def __init__(self, x,y):\n",
    "\n",
    "        Marsupial.__init__(self)\n",
    "\n",
    "        self.x=x\n",
    "\n",
    "        self.y=y\n",
    "\n",
    "    def jump(self, dx, dy):\n",
    "\n",
    "        self.x+=dx\n",
    "\n",
    "        self.x+=dy\n",
    "\n",
    "    def __str__(self):\n",
    "\n",
    "        return \"I am a Kanagroo located at coordinates (\"+str(self.x)+\",\"+str(self.y)+\")\"\n",
    "\n",
    "k = Kangaroo(0,0)\n",
    "print(k)\n",
    "\n",
    "k.put_in_pouch('doll')\n",
    "k.put_in_pouch('firetruck')\n",
    "k.put_in_pouch('kitten')\n",
    "\n",
    "print(k.pouch_contents())\n",
    "\n",
    "k.jump(1,0)\n",
    "k.jump(1,0)\n",
    "k.jump(1,0)\n",
    "\n",
    "print(k)"
   ]
  },
  {
   "cell_type": "markdown",
   "id": "fb4b642a",
   "metadata": {},
   "source": [
    "QUESTION 4"
   ]
  },
  {
   "cell_type": "code",
   "execution_count": 56,
   "id": "2d28dc7f",
   "metadata": {},
   "outputs": [
    {
     "name": "stdout",
     "output_type": "stream",
     "text": [
      "1\n",
      "10\n",
      "5\n",
      "16\n",
      "8\n",
      "4\n",
      "2\n",
      "1\n"
     ]
    }
   ],
   "source": [
    "def collatz(n):\n",
    "    print(n)\n",
    "collatz(1)\n",
    "def collatz(n):\n",
    "    print(n)\n",
    "    while n != 1:\n",
    "        if n % 2 == 0:\n",
    "            n = int(n /2)\n",
    "        else:\n",
    "            n = 3 * n + 1\n",
    "        print(n)\n",
    "collatz(10)\n",
    "  "
   ]
  },
  {
   "cell_type": "markdown",
   "id": "3e4c995e",
   "metadata": {},
   "source": [
    "QUESTION 5"
   ]
  },
  {
   "cell_type": "code",
   "execution_count": 49,
   "id": "b49c882e",
   "metadata": {},
   "outputs": [
    {
     "name": "stdout",
     "output_type": "stream",
     "text": [
      "0\n",
      "1\n",
      "10\n",
      "1001\n"
     ]
    }
   ],
   "source": [
    "def binary(num):\n",
    "    if num == 0:\n",
    "        return '0'\n",
    "    else:\n",
    "        b = ''\n",
    "        while num > 0:\n",
    "            b = str((num % 2)) + b\n",
    "            num //= 2\n",
    "        return b\n",
    "print (binary(0))\n",
    "print (binary(1))\n",
    "print (binary(2))\n",
    "print (binary(9))"
   ]
  },
  {
   "cell_type": "markdown",
   "id": "44417078",
   "metadata": {},
   "source": [
    "QUESTION 6"
   ]
  },
  {
   "cell_type": "code",
   "execution_count": 162,
   "id": "ac493cdd",
   "metadata": {},
   "outputs": [
    {
     "name": "stdout",
     "output_type": "stream",
     "text": [
      "\n",
      "\n",
      "\n",
      "\n",
      "\n",
      "\n",
      "  \n",
      "\n",
      "  \n",
      "\n",
      "  \n",
      "\n",
      "  \n",
      "\n",
      "  \n",
      "\n",
      "  \n",
      "\n",
      "\n",
      "\n",
      "\n",
      " \n",
      "\t\n",
      "W3C Mission\n",
      "\n",
      "\t\n",
      "Principles\n",
      "\n",
      "\n",
      "\n",
      "\n"
     ]
    }
   ],
   "source": [
    "from html.parser import HTMLParser\n",
    "\n",
    "class HeadingParser(HTMLParser):\n",
    "    \n",
    "    headers = ['h1', 'h2', 'h3', 'h4', 'h5', 'h6']\n",
    "  \n",
    "    def handle_starttag(self, tag, attrs):\n",
    "        if tag == 'a':\n",
    "            for attr in self.headers:\n",
    "                if attr[0] == 'href':\n",
    "                    print(attr[1])\n",
    "    def handle_data(self, data):\n",
    "        print(data)\n",
    "        \n",
    "parser = HeadingParser()\n",
    "infile = open('w3c.HTML')\n",
    "content = infile.read()\n",
    "infile.close()\n",
    "hp = HeadingParser()\n",
    "hp.feed(content)"
   ]
  },
  {
   "cell_type": "markdown",
   "id": "222e61d3",
   "metadata": {},
   "source": [
    "QUESTION 7"
   ]
  },
  {
   "cell_type": "code",
   "execution_count": 163,
   "id": "131ffe14",
   "metadata": {},
   "outputs": [
    {
     "data": {
      "text/plain": [
       "['http://reed.cs.depaul.edu/lperkovic/test1.html ',\n",
       " 'http://reed.cs.depaul.edu/lperkovic/test2.html',\n",
       " 'http://reed.cs.depaul.edu/lperkovic/test3.html']"
      ]
     },
     "execution_count": 163,
     "metadata": {},
     "output_type": "execute_result"
    }
   ],
   "source": [
    "\n",
    "from urllib.parse import urljoin\n",
    "from html.parser import HTMLParser\n",
    "class Collector(HTMLParser):\n",
    "    def __init__(self, url):\n",
    "        HTMLParser.__init__(self)\n",
    "        self.url = url\n",
    "        self.links = ['http://reed.cs.depaul.edu/lperkovic/test1.html ']\n",
    "\n",
    "    \n",
    "    def handle_starttag(self, tag, attrs):\n",
    "        if tag == 'a':\n",
    "            for attr in attrs:\n",
    "                if attr[0] == 'href':\n",
    "                    # construct absolute URL\n",
    "                    absolute = urljoin(self.url, attr[1])\n",
    "                    if absolute[:4] == 'http': \n",
    "                        self.links.append(absolute)\n",
    "                        \n",
    "    def getLinks(self):\n",
    "        \n",
    "        return self.links\n",
    "url = 'http://reed.cs.depaul.edu/lperkovic/test1.html '\n",
    "content = urlopen(url).read().decode()\n",
    "collector = Collector(url)\n",
    "collector.feed(content)\n",
    "collector.getLinks()"
   ]
  },
  {
   "cell_type": "markdown",
   "id": "08a1f9f9",
   "metadata": {},
   "source": [
    "QUESTION 8"
   ]
  },
  {
   "cell_type": "code",
   "execution_count": 100,
   "id": "af152492",
   "metadata": {},
   "outputs": [
    {
     "name": "stdout",
     "output_type": "stream",
     "text": [
      "Requirement already satisfied: ipython-sql in c:\\users\\neha\\anaconda3\\lib\\site-packages (0.4.0)\n",
      "Requirement already satisfied: ipython-genutils>=0.1.0 in c:\\users\\neha\\anaconda3\\lib\\site-packages (from ipython-sql) (0.2.0)\n",
      "Requirement already satisfied: sqlalchemy>=0.6.7 in c:\\users\\neha\\anaconda3\\lib\\site-packages (from ipython-sql) (1.4.22)\n",
      "Requirement already satisfied: ipython>=1.0 in c:\\users\\neha\\anaconda3\\lib\\site-packages (from ipython-sql) (7.29.0)\n",
      "Requirement already satisfied: six in c:\\users\\neha\\anaconda3\\lib\\site-packages (from ipython-sql) (1.16.0)\n",
      "Requirement already satisfied: prettytable<1 in c:\\users\\neha\\anaconda3\\lib\\site-packages (from ipython-sql) (0.7.2)\n",
      "Requirement already satisfied: sqlparse in c:\\users\\neha\\anaconda3\\lib\\site-packages (from ipython-sql) (0.4.2)\n",
      "Requirement already satisfied: pygments in c:\\users\\neha\\anaconda3\\lib\\site-packages (from ipython>=1.0->ipython-sql) (2.10.0)\n",
      "Requirement already satisfied: colorama in c:\\users\\neha\\anaconda3\\lib\\site-packages (from ipython>=1.0->ipython-sql) (0.4.4)\n",
      "Requirement already satisfied: pickleshare in c:\\users\\neha\\anaconda3\\lib\\site-packages (from ipython>=1.0->ipython-sql) (0.7.5)\n",
      "Requirement already satisfied: decorator in c:\\users\\neha\\anaconda3\\lib\\site-packages (from ipython>=1.0->ipython-sql) (5.1.0)\n",
      "Requirement already satisfied: prompt-toolkit!=3.0.0,!=3.0.1,<3.1.0,>=2.0.0 in c:\\users\\neha\\anaconda3\\lib\\site-packages (from ipython>=1.0->ipython-sql) (3.0.20)\n",
      "Requirement already satisfied: backcall in c:\\users\\neha\\anaconda3\\lib\\site-packages (from ipython>=1.0->ipython-sql) (0.2.0)\n",
      "Requirement already satisfied: setuptools>=18.5 in c:\\users\\neha\\anaconda3\\lib\\site-packages (from ipython>=1.0->ipython-sql) (58.0.4)\n",
      "Requirement already satisfied: matplotlib-inline in c:\\users\\neha\\anaconda3\\lib\\site-packages (from ipython>=1.0->ipython-sql) (0.1.2)\n",
      "Requirement already satisfied: traitlets>=4.2 in c:\\users\\neha\\anaconda3\\lib\\site-packages (from ipython>=1.0->ipython-sql) (5.1.0)\n",
      "Requirement already satisfied: jedi>=0.16 in c:\\users\\neha\\anaconda3\\lib\\site-packages (from ipython>=1.0->ipython-sql) (0.18.0)\n",
      "Requirement already satisfied: parso<0.9.0,>=0.8.0 in c:\\users\\neha\\anaconda3\\lib\\site-packages (from jedi>=0.16->ipython>=1.0->ipython-sql) (0.8.2)\n",
      "Requirement already satisfied: wcwidth in c:\\users\\neha\\anaconda3\\lib\\site-packages (from prompt-toolkit!=3.0.0,!=3.0.1,<3.1.0,>=2.0.0->ipython>=1.0->ipython-sql) (0.2.5)\n",
      "Requirement already satisfied: greenlet!=0.4.17 in c:\\users\\neha\\anaconda3\\lib\\site-packages (from sqlalchemy>=0.6.7->ipython-sql) (1.1.1)\n"
     ]
    }
   ],
   "source": [
    "!pip install ipython-sql"
   ]
  },
  {
   "cell_type": "code",
   "execution_count": 147,
   "id": "71a2190d",
   "metadata": {},
   "outputs": [],
   "source": [
    "\n",
    "%reload_ext sql\n"
   ]
  },
  {
   "cell_type": "code",
   "execution_count": 148,
   "id": "3f2fe900",
   "metadata": {},
   "outputs": [
    {
     "name": "stdout",
     "output_type": "stream",
     "text": [
      " * sqlite://\n",
      "Done.\n"
     ]
    },
    {
     "data": {
      "text/plain": [
       "[]"
      ]
     },
     "execution_count": 148,
     "metadata": {},
     "output_type": "execute_result"
    }
   ],
   "source": [
    "%%sql\n",
    "CREATE TABLE weather\n",
    "(\n",
    "city varchar(15),\n",
    "country varchar(15),\n",
    "season varchar(15),\n",
    "temperature float,\n",
    "rainfall float\n",
    ");\n"
   ]
  },
  {
   "cell_type": "code",
   "execution_count": 149,
   "id": "afc29614",
   "metadata": {},
   "outputs": [
    {
     "name": "stdout",
     "output_type": "stream",
     "text": [
      " * sqlite://\n",
      "10 rows affected.\n"
     ]
    },
    {
     "data": {
      "text/plain": [
       "[]"
      ]
     },
     "execution_count": 149,
     "metadata": {},
     "output_type": "execute_result"
    }
   ],
   "source": [
    "%%sql\n",
    "INSERT INTO weather VALUES('Mumbai', 'India', 'Winter', 24.8,5.9),\n",
    "('Mumbai', 'India', 'Spring', 28.4,16.2),\n",
    "('Mumbai', 'India', 'Summer', 27.9,1549.4),\n",
    "('Mumbai', 'India', 'Fall', 27.6,346.0),\n",
    "('London', 'United kingdom', 'Winter', 4.2,207.7),\n",
    "('London', 'United kingdom', 'Spring', 8.3,169.6),\n",
    "('London', 'United kingdom','Summer', 15.7,157.0),\n",
    "('London', 'United kingdom','Fall', 10.4,218.5),\n",
    "('Cairo', 'Egypt','Winter', 13.6,16.5),\n",
    "('Cairo', 'Egypt', 'Spring', 20.7,6.5);\n",
    "\n"
   ]
  },
  {
   "cell_type": "markdown",
   "id": "fddca559",
   "metadata": {},
   "source": [
    "QUESTION 8 a)"
   ]
  },
  {
   "cell_type": "code",
   "execution_count": 151,
   "id": "7b936617",
   "metadata": {},
   "outputs": [
    {
     "name": "stdout",
     "output_type": "stream",
     "text": [
      " * sqlite://\n",
      "Done.\n"
     ]
    },
    {
     "data": {
      "text/html": [
       "<table>\n",
       "    <tr>\n",
       "        <th>city</th>\n",
       "        <th>country</th>\n",
       "        <th>season</th>\n",
       "        <th>temperature</th>\n",
       "        <th>rainfall</th>\n",
       "    </tr>\n",
       "    <tr>\n",
       "        <td>Mumbai</td>\n",
       "        <td>India</td>\n",
       "        <td>Winter</td>\n",
       "        <td>24.8</td>\n",
       "        <td>5.9</td>\n",
       "    </tr>\n",
       "    <tr>\n",
       "        <td>Mumbai</td>\n",
       "        <td>India</td>\n",
       "        <td>Spring</td>\n",
       "        <td>28.4</td>\n",
       "        <td>16.2</td>\n",
       "    </tr>\n",
       "    <tr>\n",
       "        <td>Mumbai</td>\n",
       "        <td>India</td>\n",
       "        <td>Summer</td>\n",
       "        <td>27.9</td>\n",
       "        <td>1549.4</td>\n",
       "    </tr>\n",
       "    <tr>\n",
       "        <td>Mumbai</td>\n",
       "        <td>India</td>\n",
       "        <td>Fall</td>\n",
       "        <td>27.6</td>\n",
       "        <td>346.0</td>\n",
       "    </tr>\n",
       "    <tr>\n",
       "        <td>London</td>\n",
       "        <td>United kingdom</td>\n",
       "        <td>Winter</td>\n",
       "        <td>4.2</td>\n",
       "        <td>207.7</td>\n",
       "    </tr>\n",
       "    <tr>\n",
       "        <td>London</td>\n",
       "        <td>United kingdom</td>\n",
       "        <td>Spring</td>\n",
       "        <td>8.3</td>\n",
       "        <td>169.6</td>\n",
       "    </tr>\n",
       "    <tr>\n",
       "        <td>London</td>\n",
       "        <td>United kingdom</td>\n",
       "        <td>Summer</td>\n",
       "        <td>15.7</td>\n",
       "        <td>157.0</td>\n",
       "    </tr>\n",
       "    <tr>\n",
       "        <td>London</td>\n",
       "        <td>United kingdom</td>\n",
       "        <td>Fall</td>\n",
       "        <td>10.4</td>\n",
       "        <td>218.5</td>\n",
       "    </tr>\n",
       "    <tr>\n",
       "        <td>Cairo</td>\n",
       "        <td>Egypt</td>\n",
       "        <td>Winter</td>\n",
       "        <td>13.6</td>\n",
       "        <td>16.5</td>\n",
       "    </tr>\n",
       "    <tr>\n",
       "        <td>Cairo</td>\n",
       "        <td>Egypt</td>\n",
       "        <td>Spring</td>\n",
       "        <td>20.7</td>\n",
       "        <td>6.5</td>\n",
       "    </tr>\n",
       "</table>"
      ],
      "text/plain": [
       "[('Mumbai', 'India', 'Winter', 24.8, 5.9),\n",
       " ('Mumbai', 'India', 'Spring', 28.4, 16.2),\n",
       " ('Mumbai', 'India', 'Summer', 27.9, 1549.4),\n",
       " ('Mumbai', 'India', 'Fall', 27.6, 346.0),\n",
       " ('London', 'United kingdom', 'Winter', 4.2, 207.7),\n",
       " ('London', 'United kingdom', 'Spring', 8.3, 169.6),\n",
       " ('London', 'United kingdom', 'Summer', 15.7, 157.0),\n",
       " ('London', 'United kingdom', 'Fall', 10.4, 218.5),\n",
       " ('Cairo', 'Egypt', 'Winter', 13.6, 16.5),\n",
       " ('Cairo', 'Egypt', 'Spring', 20.7, 6.5)]"
      ]
     },
     "execution_count": 151,
     "metadata": {},
     "output_type": "execute_result"
    }
   ],
   "source": [
    "%%sql\n",
    "select * from weather;"
   ]
  },
  {
   "cell_type": "code",
   "execution_count": null,
   "id": "30f72e46",
   "metadata": {
    "scrolled": false
   },
   "outputs": [],
   "source": [
    "QUESTION 8 b)"
   ]
  },
  {
   "cell_type": "code",
   "execution_count": 154,
   "id": "5bce8520",
   "metadata": {},
   "outputs": [
    {
     "name": "stdout",
     "output_type": "stream",
     "text": [
      " * sqlite://\n",
      "Done.\n"
     ]
    },
    {
     "data": {
      "text/html": [
       "<table>\n",
       "    <tr>\n",
       "        <th>city</th>\n",
       "    </tr>\n",
       "    <tr>\n",
       "        <td>Mumbai</td>\n",
       "    </tr>\n",
       "    <tr>\n",
       "        <td>London</td>\n",
       "    </tr>\n",
       "    <tr>\n",
       "        <td>Cairo</td>\n",
       "    </tr>\n",
       "</table>"
      ],
      "text/plain": [
       "[('Mumbai',), ('London',), ('Cairo',)]"
      ]
     },
     "execution_count": 154,
     "metadata": {},
     "output_type": "execute_result"
    }
   ],
   "source": [
    "%%sql\n",
    "select distinct city from weather;\n",
    "     "
   ]
  },
  {
   "cell_type": "markdown",
   "id": "88ab9302",
   "metadata": {},
   "source": [
    "QUESTION 8 c)"
   ]
  },
  {
   "cell_type": "code",
   "execution_count": 155,
   "id": "2f53785e",
   "metadata": {
    "scrolled": true
   },
   "outputs": [
    {
     "name": "stdout",
     "output_type": "stream",
     "text": [
      " * sqlite://\n",
      "Done.\n"
     ]
    },
    {
     "data": {
      "text/html": [
       "<table>\n",
       "    <tr>\n",
       "        <th>city</th>\n",
       "        <th>country</th>\n",
       "        <th>season</th>\n",
       "        <th>temperature</th>\n",
       "        <th>rainfall</th>\n",
       "    </tr>\n",
       "    <tr>\n",
       "        <td>Mumbai</td>\n",
       "        <td>India</td>\n",
       "        <td>Winter</td>\n",
       "        <td>24.8</td>\n",
       "        <td>5.9</td>\n",
       "    </tr>\n",
       "    <tr>\n",
       "        <td>Mumbai</td>\n",
       "        <td>India</td>\n",
       "        <td>Spring</td>\n",
       "        <td>28.4</td>\n",
       "        <td>16.2</td>\n",
       "    </tr>\n",
       "    <tr>\n",
       "        <td>Mumbai</td>\n",
       "        <td>India</td>\n",
       "        <td>Summer</td>\n",
       "        <td>27.9</td>\n",
       "        <td>1549.4</td>\n",
       "    </tr>\n",
       "    <tr>\n",
       "        <td>Mumbai</td>\n",
       "        <td>India</td>\n",
       "        <td>Fall</td>\n",
       "        <td>27.6</td>\n",
       "        <td>346.0</td>\n",
       "    </tr>\n",
       "</table>"
      ],
      "text/plain": [
       "[('Mumbai', 'India', 'Winter', 24.8, 5.9),\n",
       " ('Mumbai', 'India', 'Spring', 28.4, 16.2),\n",
       " ('Mumbai', 'India', 'Summer', 27.9, 1549.4),\n",
       " ('Mumbai', 'India', 'Fall', 27.6, 346.0)]"
      ]
     },
     "execution_count": 155,
     "metadata": {},
     "output_type": "execute_result"
    }
   ],
   "source": [
    "%%sql\n",
    "select * from weather where country =='India';"
   ]
  },
  {
   "cell_type": "markdown",
   "id": "046414dd",
   "metadata": {},
   "source": [
    "QUESTION 8 d)"
   ]
  },
  {
   "cell_type": "code",
   "execution_count": 156,
   "id": "2bbd4dee",
   "metadata": {},
   "outputs": [
    {
     "name": "stdout",
     "output_type": "stream",
     "text": [
      " * sqlite://\n",
      "Done.\n"
     ]
    },
    {
     "data": {
      "text/html": [
       "<table>\n",
       "    <tr>\n",
       "        <th>city</th>\n",
       "        <th>country</th>\n",
       "        <th>season</th>\n",
       "        <th>temperature</th>\n",
       "        <th>rainfall</th>\n",
       "    </tr>\n",
       "    <tr>\n",
       "        <td>Mumbai</td>\n",
       "        <td>India</td>\n",
       "        <td>Fall</td>\n",
       "        <td>27.6</td>\n",
       "        <td>346.0</td>\n",
       "    </tr>\n",
       "    <tr>\n",
       "        <td>London</td>\n",
       "        <td>United kingdom</td>\n",
       "        <td>Fall</td>\n",
       "        <td>10.4</td>\n",
       "        <td>218.5</td>\n",
       "    </tr>\n",
       "</table>"
      ],
      "text/plain": [
       "[('Mumbai', 'India', 'Fall', 27.6, 346.0),\n",
       " ('London', 'United kingdom', 'Fall', 10.4, 218.5)]"
      ]
     },
     "execution_count": 156,
     "metadata": {},
     "output_type": "execute_result"
    }
   ],
   "source": [
    "%%sql\n",
    "select * from weather where season == 'Fall';"
   ]
  },
  {
   "cell_type": "markdown",
   "id": "0fbd6dcc",
   "metadata": {},
   "source": [
    "QUESTION 8 e)"
   ]
  },
  {
   "cell_type": "code",
   "execution_count": 157,
   "id": "7209b056",
   "metadata": {},
   "outputs": [
    {
     "name": "stdout",
     "output_type": "stream",
     "text": [
      " * sqlite://\n",
      "Done.\n"
     ]
    },
    {
     "data": {
      "text/html": [
       "<table>\n",
       "    <tr>\n",
       "        <th>city</th>\n",
       "        <th>country</th>\n",
       "        <th>season</th>\n",
       "    </tr>\n",
       "    <tr>\n",
       "        <td>Mumbai</td>\n",
       "        <td>India</td>\n",
       "        <td>Fall</td>\n",
       "    </tr>\n",
       "    <tr>\n",
       "        <td>London</td>\n",
       "        <td>United kingdom</td>\n",
       "        <td>Winter</td>\n",
       "    </tr>\n",
       "    <tr>\n",
       "        <td>London</td>\n",
       "        <td>United kingdom</td>\n",
       "        <td>Fall</td>\n",
       "    </tr>\n",
       "</table>"
      ],
      "text/plain": [
       "[('Mumbai', 'India', 'Fall'),\n",
       " ('London', 'United kingdom', 'Winter'),\n",
       " ('London', 'United kingdom', 'Fall')]"
      ]
     },
     "execution_count": 157,
     "metadata": {},
     "output_type": "execute_result"
    }
   ],
   "source": [
    "%%sql\n",
    "select city, country, season from weather where rainfall between 200 and 400"
   ]
  },
  {
   "cell_type": "markdown",
   "id": "a41759cc",
   "metadata": {},
   "source": [
    "QUESTION 8 f)"
   ]
  },
  {
   "cell_type": "code",
   "execution_count": 158,
   "id": "556fc2cf",
   "metadata": {},
   "outputs": [
    {
     "name": "stdout",
     "output_type": "stream",
     "text": [
      " * sqlite://\n",
      "Done.\n"
     ]
    },
    {
     "data": {
      "text/html": [
       "<table>\n",
       "    <tr>\n",
       "        <th>city</th>\n",
       "        <th>country</th>\n",
       "    </tr>\n",
       "    <tr>\n",
       "        <td>Mumbai</td>\n",
       "        <td>India</td>\n",
       "    </tr>\n",
       "</table>"
      ],
      "text/plain": [
       "[('Mumbai', 'India')]"
      ]
     },
     "execution_count": 158,
     "metadata": {},
     "output_type": "execute_result"
    }
   ],
   "source": [
    "%%sql\n",
    "select city, country from weather where season == 'Fall' and temperature > 20 order by temperature ASC;"
   ]
  },
  {
   "cell_type": "markdown",
   "id": "ed3514c5",
   "metadata": {},
   "source": [
    "QUESTION 8 g)"
   ]
  },
  {
   "cell_type": "code",
   "execution_count": 153,
   "id": "6ad0a1cb",
   "metadata": {},
   "outputs": [
    {
     "name": "stdout",
     "output_type": "stream",
     "text": [
      " * sqlite://\n",
      "Done.\n"
     ]
    },
    {
     "data": {
      "text/html": [
       "<table>\n",
       "    <tr>\n",
       "        <th>annual_rainfall</th>\n",
       "    </tr>\n",
       "    <tr>\n",
       "        <td>23.0</td>\n",
       "    </tr>\n",
       "</table>"
      ],
      "text/plain": [
       "[(23.0,)]"
      ]
     },
     "execution_count": 153,
     "metadata": {},
     "output_type": "execute_result"
    }
   ],
   "source": [
    "%%sql\n",
    "select sum(rainfall) AS annual_rainfall from weather where city == 'Cairo';"
   ]
  },
  {
   "cell_type": "markdown",
   "id": "247aa1bf",
   "metadata": {},
   "source": [
    "QUESTION 8 h)"
   ]
  },
  {
   "cell_type": "code",
   "execution_count": 159,
   "id": "8f70192f",
   "metadata": {
    "scrolled": true
   },
   "outputs": [
    {
     "name": "stdout",
     "output_type": "stream",
     "text": [
      " * sqlite://\n",
      "Done.\n"
     ]
    },
    {
     "data": {
      "text/html": [
       "<table>\n",
       "    <tr>\n",
       "        <th>season</th>\n",
       "        <th>annual_rainfall</th>\n",
       "    </tr>\n",
       "    <tr>\n",
       "        <td>Fall</td>\n",
       "        <td>564.5</td>\n",
       "    </tr>\n",
       "    <tr>\n",
       "        <td>Spring</td>\n",
       "        <td>192.29999999999998</td>\n",
       "    </tr>\n",
       "    <tr>\n",
       "        <td>Summer</td>\n",
       "        <td>1706.4</td>\n",
       "    </tr>\n",
       "    <tr>\n",
       "        <td>Winter</td>\n",
       "        <td>230.1</td>\n",
       "    </tr>\n",
       "</table>"
      ],
      "text/plain": [
       "[('Fall', 564.5),\n",
       " ('Spring', 192.29999999999998),\n",
       " ('Summer', 1706.4),\n",
       " ('Winter', 230.1)]"
      ]
     },
     "execution_count": 159,
     "metadata": {},
     "output_type": "execute_result"
    }
   ],
   "source": [
    "%%sql\n",
    "select season, sum(rainfall) AS annual_rainfall from weather group by season;"
   ]
  },
  {
   "cell_type": "markdown",
   "id": "220cebd3",
   "metadata": {},
   "source": [
    "QUESTION 9"
   ]
  },
  {
   "cell_type": "code",
   "execution_count": 57,
   "id": "a3d63727",
   "metadata": {
    "scrolled": true
   },
   "outputs": [
    {
     "name": "stdout",
     "output_type": "stream",
     "text": [
      "['THE', 'QUICK', 'BROWN', 'FOX', 'JUMPS', 'OVER', 'THE', 'LAZY', 'DOG']\n",
      "['the', 'quick', 'brown', 'fox', 'jumps', 'over', 'the', 'lazy', 'dog']\n",
      "[3, 5, 5, 3, 5, 4, 3, 4, 3]\n",
      "[['THE', 'the', 3], ['QUICK', 'quick', 5], ['BROWN', 'brown', 5], ['FOX', 'fox', 3], ['JUMPS', 'jumps', 5], ['OVER', 'over', 4], ['THE', 'the', 3], ['LAZY', 'lazy', 4], ['DOG', 'dog', 3]]\n",
      "['quick', 'brown', 'jumps', 'over', 'lazy']\n"
     ]
    }
   ],
   "source": [
    "words = ['The', 'quick', 'brown', 'fox', 'jumps', 'over',\n",
    "'the', 'lazy', 'dog']\n",
    "\n",
    "print([x.upper() for x in words])\n",
    "print([x.lower() for x in words])\n",
    "print([len(x) for x in words])\n",
    "print([[x.upper(), x.lower(), len(x)] for x in words])\n",
    "print([x for x in words if len(x)>=4])"
   ]
  }
 ],
 "metadata": {
  "kernelspec": {
   "display_name": "Python 3 (ipykernel)",
   "language": "python",
   "name": "python3"
  },
  "language_info": {
   "codemirror_mode": {
    "name": "ipython",
    "version": 3
   },
   "file_extension": ".py",
   "mimetype": "text/x-python",
   "name": "python",
   "nbconvert_exporter": "python",
   "pygments_lexer": "ipython3",
   "version": "3.9.7"
  }
 },
 "nbformat": 4,
 "nbformat_minor": 5
}
